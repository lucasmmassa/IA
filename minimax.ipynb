{
 "cells": [
  {
   "cell_type": "markdown",
   "metadata": {},
   "source": [
    "# Minimax aplicado no jogo da velha"
   ]
  },
  {
   "cell_type": "code",
   "execution_count": 43,
   "metadata": {},
   "outputs": [],
   "source": [
    "import numpy as np\n",
    "from math import inf as infinity"
   ]
  },
  {
   "cell_type": "markdown",
   "metadata": {},
   "source": [
    "### Especificando o estado e os símbolos"
   ]
  },
  {
   "cell_type": "code",
   "execution_count": 44,
   "metadata": {},
   "outputs": [],
   "source": [
    "estado = [[' ',' ',' '],\n",
    "          [' ',' ',' '],\n",
    "          [' ',' ',' ']]"
   ]
  },
  {
   "cell_type": "code",
   "execution_count": 45,
   "metadata": {},
   "outputs": [],
   "source": [
    "jogadores = ['X','O']"
   ]
  },
  {
   "cell_type": "markdown",
   "metadata": {},
   "source": [
    "### Especificando as funções"
   ]
  },
  {
   "cell_type": "code",
   "execution_count": 46,
   "metadata": {},
   "outputs": [],
   "source": [
    "def copiar_estado(estado):\n",
    "    novo = [[' ',' ',' '],[' ',' ',' '],[' ',' ',' ']]\n",
    "    for i in range(3):\n",
    "        for j in range(3):\n",
    "            novo[i][j] = estado[i][j]\n",
    "    return novo"
   ]
  },
  {
   "cell_type": "code",
   "execution_count": 47,
   "metadata": {},
   "outputs": [],
   "source": [
    "def print_estado(estado):\n",
    "    print('----------------')\n",
    "    print('| ' + str(estado[0][0]) + ' || ' + str(estado[0][1]) + ' || ' + str(estado[0][2]) + ' |')\n",
    "    print('----------------')\n",
    "    print('| ' + str(estado[1][0]) + ' || ' + str(estado[1][1]) + ' || ' + str(estado[1][2]) + ' |')\n",
    "    print('----------------')\n",
    "    print('| ' + str(estado[2][0]) + ' || ' + str(estado[2][1]) + ' || ' + str(estado[2][2]) + ' |')\n",
    "    print('----------------')"
   ]
  },
  {
   "cell_type": "code",
   "execution_count": 48,
   "metadata": {},
   "outputs": [],
   "source": [
    "def jogada(estado, jogador, bloco):\n",
    "    if estado[int((bloco-1)/3)][(bloco-1)%3] is ' ':\n",
    "        estado[int((bloco-1)/3)][(bloco-1)%3] = jogador\n",
    "    else:\n",
    "        bloco = int(input(\"O bloco escolhido não está vazio. Escolha novamente: \"))\n",
    "        jogada(estado, jogador, bloco)"
   ]
  },
  {
   "cell_type": "code",
   "execution_count": 49,
   "metadata": {},
   "outputs": [],
   "source": [
    "def checar(estado):\n",
    "    empate = True\n",
    "    for i in range(3):\n",
    "        for j in range(3):\n",
    "            if estado[i][j] is ' ':\n",
    "                empate = False\n",
    "    if empate:\n",
    "        return None, False\n",
    "    \n",
    "    # Checando linhas\n",
    "    if (estado[0][0] == estado[0][1] and estado[0][1] == estado[0][2] and estado[0][0] is not ' '):\n",
    "        return estado[0][0], False\n",
    "    if (estado[1][0] == estado[1][1] and estado[1][1] == estado[1][2] and estado[1][0] is not ' '):\n",
    "        return estado[1][0], False\n",
    "    if (estado[2][0] == estado[2][1] and estado[2][1] == estado[2][2] and estado[2][0] is not ' '):\n",
    "        return estado[2][0], False\n",
    "    \n",
    "    # Checando colunas\n",
    "    if (estado[0][0] == estado[1][0] and estado[1][0] == estado[2][0] and estado[0][0] is not ' '):\n",
    "        return estado[0][0], False\n",
    "    if (estado[0][1] == estado[1][1] and estado[1][1] == estado[2][1] and estado[0][1] is not ' '):\n",
    "        return estado[0][1], False\n",
    "    if (estado[0][2] == estado[1][2] and estado[1][2] == estado[2][2] and estado[0][2] is not ' '):\n",
    "        return estado[0][2], False\n",
    "    \n",
    "    # Checando diagonais\n",
    "    if (estado[0][0] == estado[1][1] and estado[1][1] == estado[2][2] and estado[0][0] is not ' '):\n",
    "        return estado[1][1], False\n",
    "    if (estado[2][0] == estado[1][1] and estado[1][1] == estado[0][2] and estado[2][0] is not ' '):\n",
    "        return estado[1][1], False\n",
    "    \n",
    "    return None, True"
   ]
  },
  {
   "cell_type": "code",
   "execution_count": 52,
   "metadata": {},
   "outputs": [],
   "source": [
    "def minimax(estado, jogador):\n",
    "    \n",
    "    vencedor , executar = checar(estado)\n",
    "    if not executar and vencedor == 'O':\n",
    "        return 1\n",
    "    elif not executar and vencedor == 'X':\n",
    "        return -1\n",
    "    elif not executar:\n",
    "        return 0\n",
    "        \n",
    "    movimentos = []\n",
    "    vazios = []\n",
    "    for i in range(3):\n",
    "        for j in range(3):\n",
    "            if estado[i][j] is ' ':\n",
    "                vazios.append(i*3 + (j+1))\n",
    "    \n",
    "    for vazio in vazios:\n",
    "        movimento = {}\n",
    "        movimento['indice'] = vazio\n",
    "        movimento['pontuacao'] = 0\n",
    "        novo_estado = copiar_estado(estado)\n",
    "        jogada(novo_estado, jogador, vazio)\n",
    "        \n",
    "        if jogador == 'O':\n",
    "            resultado = minimax(novo_estado, 'X')           \n",
    "            \n",
    "        else:\n",
    "            resultado = minimax(novo_estado, 'O')\n",
    "\n",
    "        movimento['pontuacao'] += resultado \n",
    "        \n",
    "        movimentos.append(movimento)\n",
    "\n",
    " # Encontra melhor movimento\n",
    "        melhor = None\n",
    "        if jogador == 'O':\n",
    "            maior = -infinity\n",
    "            for movimento in movimentos:\n",
    "                if movimento['pontuacao'] > maior:\n",
    "                    maior = movimento['pontuacao']\n",
    "                    melhor = movimento['indice']\n",
    "        else:\n",
    "            maior = infinity\n",
    "            for movimento in movimentos:\n",
    "                if movimento['pontuacao'] < maior:\n",
    "                    maior = movimento['pontuacao']\n",
    "                    melhor = movimento['indice']\n",
    "                \n",
    "    return melhor"
   ]
  },
  {
   "cell_type": "markdown",
   "metadata": {},
   "source": [
    "### Execução"
   ]
  },
  {
   "cell_type": "code",
   "execution_count": 53,
   "metadata": {},
   "outputs": [
    {
     "name": "stdout",
     "output_type": "stream",
     "text": [
      "----------------\n",
      "|   ||   ||   |\n",
      "----------------\n",
      "|   ||   ||   |\n",
      "----------------\n",
      "|   ||   ||   |\n",
      "----------------\n",
      "Escolha quem começa - X (Humano) or O (Máquina): O\n",
      "Jogada da máquina: 2\n",
      "----------------\n",
      "|   || O ||   |\n",
      "----------------\n",
      "|   ||   ||   |\n",
      "----------------\n",
      "|   ||   ||   |\n",
      "----------------\n",
      "Sua vez, digite uma opção de bloco entre 1 e 9: 1\n",
      "----------------\n",
      "| X || O ||   |\n",
      "----------------\n",
      "|   ||   ||   |\n",
      "----------------\n",
      "|   ||   ||   |\n",
      "----------------\n",
      "Jogada da máquina: 9\n",
      "----------------\n",
      "| X || O ||   |\n",
      "----------------\n",
      "|   ||   ||   |\n",
      "----------------\n",
      "|   ||   || O |\n",
      "----------------\n",
      "Sua vez, digite uma opção de bloco entre 1 e 9: 3\n",
      "----------------\n",
      "| X || O || X |\n",
      "----------------\n",
      "|   ||   ||   |\n",
      "----------------\n",
      "|   ||   || O |\n",
      "----------------\n",
      "Jogada da máquina: 6\n",
      "----------------\n",
      "| X || O || X |\n",
      "----------------\n",
      "|   ||   || O |\n",
      "----------------\n",
      "|   ||   || O |\n",
      "----------------\n",
      "Sua vez, digite uma opção de bloco entre 1 e 9: 7\n",
      "----------------\n",
      "| X || O || X |\n",
      "----------------\n",
      "|   ||   || O |\n",
      "----------------\n",
      "| X ||   || O |\n",
      "----------------\n",
      "Jogada da máquina: 4\n",
      "----------------\n",
      "| X || O || X |\n",
      "----------------\n",
      "| O ||   || O |\n",
      "----------------\n",
      "| X ||   || O |\n",
      "----------------\n",
      "Sua vez, digite uma opção de bloco entre 1 e 9: 5\n",
      "----------------\n",
      "| X || O || X |\n",
      "----------------\n",
      "| O || X || O |\n",
      "----------------\n",
      "| X ||   || O |\n",
      "----------------\n",
      "X venceu a partida.\n",
      "Deseja tentar novamente? (S/N)n\n"
     ]
    }
   ],
   "source": [
    "continuar = 'S'\n",
    "while continuar == 'S' or continuar == 's':\n",
    "    estado = [[' ',' ',' '],\n",
    "              [' ',' ',' '],\n",
    "              [' ',' ',' ']]\n",
    "    executar = True\n",
    "    print_estado(estado)\n",
    "    iniciante = input(\"Escolha quem começa - X (Humano) or O (Máquina): \")\n",
    "    vencedor = None\n",
    "    \n",
    "    if iniciante == 'X' or iniciante == 'x':\n",
    "        jogador_atual = 0\n",
    "    else:\n",
    "        jogador_atual = 1\n",
    "        \n",
    "    while executar:\n",
    "        if jogador_atual == 0:\n",
    "            bloco = int(input(\"Sua vez, digite uma opção de bloco entre 1 e 9: \"))\n",
    "            jogada(estado ,jogadores[jogador_atual], bloco)\n",
    "        else:\n",
    "            bloco = minimax(estado, jogadores[jogador_atual])\n",
    "            jogada(estado ,jogadores[jogador_atual], bloco)\n",
    "            print(\"Jogada da máquina: \" + str(bloco))\n",
    "        print_estado(estado)\n",
    "        vencedor, executar = checar(estado)\n",
    "        if vencedor != None:\n",
    "            print(str(vencedor) + \" venceu a partida.\")\n",
    "        else:\n",
    "            jogador_atual = (jogador_atual + 1)%2\n",
    "        \n",
    "        if (not executar) and vencedor == None:\n",
    "            print(\"Empate.\")\n",
    "            \n",
    "    continuar = input('Deseja tentar novamente? (S/N)')"
   ]
  },
  {
   "cell_type": "code",
   "execution_count": null,
   "metadata": {},
   "outputs": [],
   "source": []
  }
 ],
 "metadata": {
  "kernelspec": {
   "display_name": "Python 3",
   "language": "python",
   "name": "python3"
  },
  "language_info": {
   "codemirror_mode": {
    "name": "ipython",
    "version": 3
   },
   "file_extension": ".py",
   "mimetype": "text/x-python",
   "name": "python",
   "nbconvert_exporter": "python",
   "pygments_lexer": "ipython3",
   "version": "3.6.8"
  }
 },
 "nbformat": 4,
 "nbformat_minor": 2
}
