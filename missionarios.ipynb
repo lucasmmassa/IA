{
 "cells": [
  {
   "cell_type": "markdown",
   "metadata": {},
   "source": [
    "# Missionários e Canibais"
   ]
  },
  {
   "cell_type": "code",
   "execution_count": 269,
   "metadata": {},
   "outputs": [],
   "source": [
    "import queue"
   ]
  },
  {
   "cell_type": "code",
   "execution_count": 332,
   "metadata": {},
   "outputs": [],
   "source": [
    "class State:                               # REPRESENTAR O ESTADO\n",
    "    def __init__(self,ce,me,cd,md,ne,sp):  # CONSIDERA QUE QUEREM ATRAVESSAR DA ESQUERDA PARA A DIRETA\n",
    "        self.canibais_esquerda = ce\n",
    "        self.missionarios_esquerda = me\n",
    "        self.canibais_direita = cd\n",
    "        self.missionarios_direita = md\n",
    "        self.na_esquerda = ne\n",
    "        self.sequencia_passos = sp"
   ]
  },
  {
   "cell_type": "markdown",
   "metadata": {},
   "source": [
    "### O código acima define a classe estado."
   ]
  },
  {
   "cell_type": "markdown",
   "metadata": {},
   "source": [
    "### Em seguida serão definidas as funções de movimentação dos missionários e canibais. "
   ]
  },
  {
   "cell_type": "code",
   "execution_count": 326,
   "metadata": {},
   "outputs": [],
   "source": [
    "def dois_missionarios_para_direita(me,ce,md,cd,ne,sp):\n",
    "    x = me-2\n",
    "    y = md+2\n",
    "    s = sp + ['mmd']\n",
    "    new = State(ce,x,cd,y,False,s)\n",
    "    return new"
   ]
  },
  {
   "cell_type": "code",
   "execution_count": 327,
   "metadata": {},
   "outputs": [],
   "source": [
    "def dois_missionarios_para_esquerda(me,ce,md,cd,ne,sp):\n",
    "    x = me+2\n",
    "    y = md-2\n",
    "    s = sp + ['mme']\n",
    "    new = State(ce,x,cd,y,True,s)\n",
    "    return new"
   ]
  },
  {
   "cell_type": "code",
   "execution_count": 328,
   "metadata": {},
   "outputs": [],
   "source": [
    "def dois_canibais_para_direita(me,ce,md,cd,ne,sp):\n",
    "    x = ce-2\n",
    "    y = cd+2\n",
    "    s = sp + ['ccd']\n",
    "    new = State(x,me,y,md,False,s)\n",
    "    return new"
   ]
  },
  {
   "cell_type": "code",
   "execution_count": 329,
   "metadata": {},
   "outputs": [],
   "source": [
    "def dois_canibais_para_esquerda(me,ce,md,cd,ne,sp):\n",
    "    x = ce+2\n",
    "    y = cd-2\n",
    "    s = sp + ['cce']\n",
    "    new = State(x,me,y,md,True,s)\n",
    "    return new"
   ]
  },
  {
   "cell_type": "code",
   "execution_count": 335,
   "metadata": {},
   "outputs": [],
   "source": [
    "def um_de_cada_para_direita(me,ce,md,cd,ne,sp):\n",
    "    x = ce-1\n",
    "    y = me-1\n",
    "    z = cd+1\n",
    "    w = md+1\n",
    "    s = sp + ['mcd']\n",
    "    new = State(x,y,z,w,False,s)\n",
    "    return new"
   ]
  },
  {
   "cell_type": "code",
   "execution_count": 336,
   "metadata": {},
   "outputs": [],
   "source": [
    "def um_de_cada_para_esquerda(me,ce,md,cd,ne,sp):\n",
    "    x = ce+1\n",
    "    y = me+1\n",
    "    z = cd-1\n",
    "    w = md-1\n",
    "    s = sp + ['mce']\n",
    "    new = State(x,y,z,w,True,s)\n",
    "    return new"
   ]
  },
  {
   "cell_type": "code",
   "execution_count": 337,
   "metadata": {},
   "outputs": [],
   "source": [
    "def missionario_para_direita(me,ce,md,cd,ne,sp):\n",
    "    x = me-1\n",
    "    y = md+1\n",
    "    s = sp + ['md']\n",
    "    new = State(ce,x,cd,y,False,s)\n",
    "    return new"
   ]
  },
  {
   "cell_type": "code",
   "execution_count": 338,
   "metadata": {},
   "outputs": [],
   "source": [
    "def missionario_para_esquerda(me,ce,md,cd,ne,sp):\n",
    "    x = me+1\n",
    "    y = md-1\n",
    "    s = sp + ['me']\n",
    "    new = State(ce,x,cd,y,True,s)\n",
    "    return new"
   ]
  },
  {
   "cell_type": "code",
   "execution_count": 339,
   "metadata": {},
   "outputs": [],
   "source": [
    "def canibal_para_direita(me,ce,md,cd,ne,sp):\n",
    "    x = ce-1\n",
    "    y = cd+1\n",
    "    s = sp + ['cd']\n",
    "    new = State(x,me,y,md,False,s)\n",
    "    return new"
   ]
  },
  {
   "cell_type": "code",
   "execution_count": 340,
   "metadata": {},
   "outputs": [],
   "source": [
    "def canibal_para_esquerda(me,ce,md,cd,ne,sp):\n",
    "    x = ce+1\n",
    "    y = cd-1\n",
    "    s = sp + ['ce']\n",
    "    new = State(x,me,y,md,True,s)\n",
    "    return new"
   ]
  },
  {
   "cell_type": "markdown",
   "metadata": {},
   "source": [
    "### Abaixo serão definadas as funções de controle de fluxo de procedimentos"
   ]
  },
  {
   "cell_type": "code",
   "execution_count": 341,
   "metadata": {},
   "outputs": [],
   "source": [
    "def opcoes_para_direita(me,ce,md,cd,ne,sp):\n",
    "    fronteira.put(dois_canibais_para_direita(me,ce,md,cd,ne,sp))\n",
    "    fronteira.put(dois_missionarios_para_direita(me,ce,md,cd,ne,sp))\n",
    "    fronteira.put(um_de_cada_para_direita(me,ce,md,cd,ne,sp))\n",
    "    fronteira.put(missionario_para_direita(me,ce,md,cd,ne,sp))\n",
    "    fronteira.put(canibal_para_direita(me,ce,md,cd,ne,sp))"
   ]
  },
  {
   "cell_type": "code",
   "execution_count": 342,
   "metadata": {},
   "outputs": [],
   "source": [
    "def opcoes_para_esquerda(me,ce,md,cd,ne,sp):\n",
    "    fronteira.put(dois_canibais_para_esquerda(me,ce,md,cd,ne,sp))\n",
    "    fronteira.put(dois_missionarios_para_esquerda(me,ce,md,cd,ne,sp))\n",
    "    fronteira.put(um_de_cada_para_esquerda(me,ce,md,cd,ne,sp))\n",
    "    fronteira.put(missionario_para_esquerda(me,ce,md,cd,ne,sp))\n",
    "    fronteira.put(canibal_para_esquerda(me,ce,md,cd,ne,sp))"
   ]
  },
  {
   "cell_type": "code",
   "execution_count": 346,
   "metadata": {},
   "outputs": [],
   "source": [
    "def procedimento():\n",
    "    while(True):\n",
    "        if(fronteira.empty()):\n",
    "            sem_solucao()\n",
    "            break\n",
    "\n",
    "        else:\n",
    "            actual = fronteira.get()\n",
    "            me = actual.missionarios_esquerda\n",
    "            ce = actual.canibais_esquerda\n",
    "            md = actual.missionarios_direita\n",
    "            cd = actual.canibais_direita\n",
    "            ne = actual.na_esquerda\n",
    "            sp = actual.sequencia_passos\n",
    "            if(me==0 and ce==0 and md==3 and cd==3):\n",
    "                solucao(sp)\n",
    "                break\n",
    "                \n",
    "            if(not((ce>me and me!=0) or (cd>md and md!=0) or me<0 or ce<0 or md<0 or cd<0 or me>3 or md>3 or ce>3 or cd>3)):\n",
    "                if(ne):\n",
    "                    opcoes_para_direita(me,ce,md,cd,ne,sp)\n",
    "                else:\n",
    "                    opcoes_para_esquerda(me,ce,md,cd,ne,sp)"
   ]
  },
  {
   "cell_type": "code",
   "execution_count": 349,
   "metadata": {},
   "outputs": [],
   "source": [
    "def solucao(sp):\n",
    "    print('Solução encontrada')\n",
    "    print('Na seguinte solução m indica missionario, c canibal, e esquerda, d direita.')\n",
    "    print('As quantidades de m e c indicam a quantidade de cada um que atravessou.')\n",
    "    for i in range(len(sp)):\n",
    "        print('')\n",
    "        print(1+i,' ',sp[i])\n",
    "    \n",
    "def sem_solucao():\n",
    "    print('Não há solução')"
   ]
  },
  {
   "cell_type": "markdown",
   "metadata": {},
   "source": [
    "### Abaixo ocorre a execução"
   ]
  },
  {
   "cell_type": "code",
   "execution_count": 350,
   "metadata": {},
   "outputs": [
    {
     "name": "stdout",
     "output_type": "stream",
     "text": [
      "Solução encontrada\n",
      "Na seguinte solução m indica missionario, c canibal, e esquerda, d direita.\n",
      "As quantidades de m e c indicam a quantidade de cada um que atravessou.\n",
      "\n",
      "1   ccd\n",
      "\n",
      "2   ce\n",
      "\n",
      "3   ccd\n",
      "\n",
      "4   ce\n",
      "\n",
      "5   mmd\n",
      "\n",
      "6   mce\n",
      "\n",
      "7   mmd\n",
      "\n",
      "8   ce\n",
      "\n",
      "9   ccd\n",
      "\n",
      "10   me\n",
      "\n",
      "11   mcd\n"
     ]
    }
   ],
   "source": [
    "fronteira = queue.Queue(maxsize=0)\n",
    "initial = State(3,3,0,0,True,[])\n",
    "fronteira.put(initial)\n",
    "procedimento()"
   ]
  },
  {
   "cell_type": "code",
   "execution_count": null,
   "metadata": {},
   "outputs": [],
   "source": []
  },
  {
   "cell_type": "code",
   "execution_count": null,
   "metadata": {},
   "outputs": [],
   "source": []
  }
 ],
 "metadata": {
  "kernelspec": {
   "display_name": "Python 3",
   "language": "python",
   "name": "python3"
  },
  "language_info": {
   "codemirror_mode": {
    "name": "ipython",
    "version": 3
   },
   "file_extension": ".py",
   "mimetype": "text/x-python",
   "name": "python",
   "nbconvert_exporter": "python",
   "pygments_lexer": "ipython3",
   "version": "3.6.8"
  }
 },
 "nbformat": 4,
 "nbformat_minor": 2
}
