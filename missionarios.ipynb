{
 "cells": [
  {
   "cell_type": "code",
   "execution_count": 1,
   "metadata": {},
   "outputs": [],
   "source": [
    "import queue"
   ]
  },
  {
   "cell_type": "code",
   "execution_count": 8,
   "metadata": {},
   "outputs": [],
   "source": [
    "class State:                         # REPRESENTAR O ESTADO\n",
    "    def __init__(ce,me,cd,md,ne):                  # CONSIDERA QUE QUEREM ATRAVESSAR DA ESQUERDA PARA A DIRETA\n",
    "        self.canibais_esquerda = ce\n",
    "        self.missionarios_esquerda = me\n",
    "        self.canibais_direita = cd\n",
    "        self.missionarios_direita = md\n",
    "        self.na_esquerda = ne        "
   ]
  },
  {
   "cell_type": "code",
   "execution_count": 9,
   "metadata": {},
   "outputs": [],
   "source": [
    "fronteira = queue.Queue(maxsize=0)"
   ]
  },
  {
   "cell_type": "code",
   "execution_count": 23,
   "metadata": {},
   "outputs": [],
   "source": [
    "me = 3\n",
    "ce = 3\n",
    "md = 0\n",
    "cd = 0\n",
    "ne = True"
   ]
  },
  {
   "cell_type": "markdown",
   "metadata": {},
   "source": [
    "### O código acima inicia a classe estado e a fronteira."
   ]
  },
  {
   "cell_type": "markdown",
   "metadata": {},
   "source": [
    "### Em seguida serão definidas as funções de movimentação dos missionários e canibais. "
   ]
  },
  {
   "cell_type": "code",
   "execution_count": 13,
   "metadata": {},
   "outputs": [],
   "source": [
    "def dois_missionarios_para_direita():\n",
    "    x = me-2\n",
    "    y = md+2\n",
    "    z = False\n",
    "    new = State(ce,x,cd,y,z)\n",
    "    fronteira.put(new)"
   ]
  },
  {
   "cell_type": "code",
   "execution_count": 19,
   "metadata": {},
   "outputs": [],
   "source": [
    "def dois_missionarios_para_esquerda():\n",
    "    x = me+2\n",
    "    y = md-2\n",
    "    z = True\n",
    "    new = State(ce,x,cd,y,z)\n",
    "    fronteira.put(new)"
   ]
  },
  {
   "cell_type": "code",
   "execution_count": 14,
   "metadata": {},
   "outputs": [],
   "source": [
    "def um_de_cada_para_direita():\n",
    "    x = ce-1\n",
    "    y = me-1\n",
    "    z = cd+1\n",
    "    w = md+1\n",
    "    u = False\n",
    "    new = State(x,y,z,w,u)\n",
    "    fronteira.put(new)"
   ]
  },
  {
   "cell_type": "code",
   "execution_count": 15,
   "metadata": {},
   "outputs": [],
   "source": [
    "def um_de_cada_para_esquerda():\n",
    "    x = ce+1\n",
    "    y = me+1\n",
    "    z = cd-1\n",
    "    w = md-1\n",
    "    u = True\n",
    "    new = State(x,y,z,w,u)\n",
    "    fronteira.put(new)"
   ]
  },
  {
   "cell_type": "code",
   "execution_count": 16,
   "metadata": {},
   "outputs": [],
   "source": [
    "def dois_canibais_para_direita():\n",
    "    x = ce-2\n",
    "    y = cd+2\n",
    "    z = False\n",
    "    new = State(x,me,y,md,z)\n",
    "    fronteira.put(new)"
   ]
  },
  {
   "cell_type": "code",
   "execution_count": 17,
   "metadata": {},
   "outputs": [],
   "source": [
    "def dois_canibais_para_esquerda():\n",
    "    x = ce+2\n",
    "    y = cd-2\n",
    "    z = False\n",
    "    new = State(x,me,y,md,z)\n",
    "    fronteira.put(new)"
   ]
  },
  {
   "cell_type": "code",
   "execution_count": 18,
   "metadata": {},
   "outputs": [],
   "source": [
    "def missionario_para_direita():\n",
    "    x = me-1\n",
    "    y = md+1\n",
    "    z = False\n",
    "    new = State(ce,x,cd,y,z)\n",
    "    fronteira.put(new)"
   ]
  },
  {
   "cell_type": "code",
   "execution_count": 20,
   "metadata": {},
   "outputs": [],
   "source": [
    "def missionario_para_esquerda():\n",
    "    x = me+1\n",
    "    y = md-1\n",
    "    z = True\n",
    "    new = State(ce,x,cd,y,z)\n",
    "    fronteira.put(new)"
   ]
  },
  {
   "cell_type": "code",
   "execution_count": 21,
   "metadata": {},
   "outputs": [],
   "source": [
    "def canibal_para_direita():\n",
    "    x = ce-1\n",
    "    y = cd+1\n",
    "    z = False\n",
    "    new = State(x,me,y,md,z)\n",
    "    fronteira.put(new)"
   ]
  },
  {
   "cell_type": "code",
   "execution_count": 22,
   "metadata": {},
   "outputs": [],
   "source": [
    "def canibal_para_esquerda():\n",
    "    x = ce+1\n",
    "    y = cd-1\n",
    "    z = False\n",
    "    new = State(x,me,y,md,z)\n",
    "    fronteira.put(new)"
   ]
  },
  {
   "cell_type": "markdown",
   "metadata": {},
   "source": [
    "### Abaixo serão definadas as funções de controle de fluxo de procedimentos"
   ]
  },
  {
   "cell_type": "code",
   "execution_count": null,
   "metadata": {},
   "outputs": [],
   "source": [
    "def opcoes_para_direita():\n",
    "    "
   ]
  },
  {
   "cell_type": "code",
   "execution_count": null,
   "metadata": {},
   "outputs": [],
   "source": [
    "def opcoes_para_esquerda(actual):\n",
    "    "
   ]
  },
  {
   "cell_type": "code",
   "execution_count": 10,
   "metadata": {},
   "outputs": [],
   "source": [
    "def procedimento():\n",
    "    actual = fronteira.get()\n",
    "    me = actual.missionarios_esquerda\n",
    "    ce = actual.canibais_esquerda\n",
    "    md = actual.missionarios_direita\n",
    "    cd = actual.canibais_direita\n",
    "    ne = actual.na_esquerda\n",
    "    \n",
    "    if(ne):\n",
    "        opcoes_para_direita(actual)\n",
    "    else:\n",
    "        opcoes_para_esquerda(actual)"
   ]
  },
  {
   "cell_type": "code",
   "execution_count": null,
   "metadata": {},
   "outputs": [],
   "source": []
  }
 ],
 "metadata": {
  "kernelspec": {
   "display_name": "Python 3",
   "language": "python",
   "name": "python3"
  },
  "language_info": {
   "codemirror_mode": {
    "name": "ipython",
    "version": 3
   },
   "file_extension": ".py",
   "mimetype": "text/x-python",
   "name": "python",
   "nbconvert_exporter": "python",
   "pygments_lexer": "ipython3",
   "version": "3.5.2"
  }
 },
 "nbformat": 4,
 "nbformat_minor": 2
}
