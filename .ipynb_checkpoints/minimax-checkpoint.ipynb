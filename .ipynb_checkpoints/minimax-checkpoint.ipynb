{
 "cells": [
  {
   "cell_type": "markdown",
   "metadata": {},
   "source": [
    "# Minimax aplicado no jogo da velha"
   ]
  },
  {
   "cell_type": "code",
   "execution_count": 136,
   "metadata": {},
   "outputs": [],
   "source": [
    "import numpy as np\n",
    "from math import inf as infinity"
   ]
  },
  {
   "cell_type": "markdown",
   "metadata": {},
   "source": [
    "### Especificando o estado e os símbolos"
   ]
  },
  {
   "cell_type": "code",
   "execution_count": 137,
   "metadata": {},
   "outputs": [],
   "source": [
    "estado = [[' ',' ',' '],\n",
    "          [' ',' ',' '],\n",
    "          [' ',' ',' ']]"
   ]
  },
  {
   "cell_type": "code",
   "execution_count": 138,
   "metadata": {},
   "outputs": [],
   "source": [
    "jogadores = ['X','O']"
   ]
  },
  {
   "cell_type": "markdown",
   "metadata": {},
   "source": [
    "### Especificando as funções"
   ]
  },
  {
   "cell_type": "code",
   "execution_count": 139,
   "metadata": {},
   "outputs": [],
   "source": [
    "def copiar_estado(estado):\n",
    "    novo = [[' ',' ',' '],[' ',' ',' '],[' ',' ',' ']]\n",
    "    for i in range(3):\n",
    "        for j in range(3):\n",
    "            novo[i][j] = estado[i][j]\n",
    "    return novo"
   ]
  },
  {
   "cell_type": "code",
   "execution_count": 140,
   "metadata": {},
   "outputs": [],
   "source": [
    "def print_estado(estado):\n",
    "    print('----------------')\n",
    "    print('| ' + str(estado[0][0]) + ' || ' + str(estado[0][1]) + ' || ' + str(estado[0][2]) + ' |')\n",
    "    print('----------------')\n",
    "    print('| ' + str(estado[1][0]) + ' || ' + str(estado[1][1]) + ' || ' + str(estado[1][2]) + ' |')\n",
    "    print('----------------')\n",
    "    print('| ' + str(estado[2][0]) + ' || ' + str(estado[2][1]) + ' || ' + str(estado[2][2]) + ' |')\n",
    "    print('----------------')"
   ]
  },
  {
   "cell_type": "code",
   "execution_count": 141,
   "metadata": {},
   "outputs": [],
   "source": [
    "def jogada(estado, jogador, bloco):\n",
    "    if estado[int((bloco-1)/3)][(bloco-1)%3] is ' ':\n",
    "        estado[int((bloco-1)/3)][(bloco-1)%3] = jogador\n",
    "    else:\n",
    "        bloco = int(input(\"O bloco escolhido não está vazio. Escolha novamente: \"))\n",
    "        jogada(estado, jogador, bloco)"
   ]
  },
  {
   "cell_type": "code",
   "execution_count": 142,
   "metadata": {},
   "outputs": [],
   "source": [
    "def checar(estado):\n",
    "    empate = True\n",
    "    for i in range(3):\n",
    "        for j in range(3):\n",
    "            if estado[i][j] is ' ':\n",
    "                empate = False\n",
    "    if empate:\n",
    "        return None, False\n",
    "    \n",
    "    # Checando linhas\n",
    "    if (estado[0][0] == estado[0][1] and estado[0][1] == estado[0][2] and estado[0][0] is not ' '):\n",
    "        return estado[0][0], False\n",
    "    if (estado[1][0] == estado[1][1] and estado[1][1] == estado[1][2] and estado[1][0] is not ' '):\n",
    "        return estado[1][0], False\n",
    "    if (estado[2][0] == estado[2][1] and estado[2][1] == estado[2][2] and estado[2][0] is not ' '):\n",
    "        return estado[2][0], False\n",
    "    \n",
    "    # Checando colunas\n",
    "    if (estado[0][0] == estado[1][0] and estado[1][0] == estado[2][0] and estado[0][0] is not ' '):\n",
    "        return estado[0][0], False\n",
    "    if (estado[0][1] == estado[1][1] and estado[1][1] == estado[2][1] and estado[0][1] is not ' '):\n",
    "        return estado[0][1], False\n",
    "    if (estado[0][2] == estado[1][2] and estado[1][2] == estado[2][2] and estado[0][2] is not ' '):\n",
    "        return estado[0][2], False\n",
    "    \n",
    "    # Checando diagonais\n",
    "    if (estado[0][0] == estado[1][1] and estado[1][1] == estado[2][2] and estado[0][0] is not ' '):\n",
    "        return estado[1][1], False\n",
    "    if (estado[2][0] == estado[1][1] and estado[1][1] == estado[0][2] and estado[2][0] is not ' '):\n",
    "        return estado[1][1], False\n",
    "    \n",
    "    return None, True"
   ]
  },
  {
   "cell_type": "code",
   "execution_count": 143,
   "metadata": {},
   "outputs": [],
   "source": [
    "def minimax(estado, jogador):\n",
    "    \n",
    "    vencedor , executar = checar(estado)\n",
    "    if not executar and vencedor == 'O':\n",
    "        r = {}\n",
    "        r['pontuacao'] = 1\n",
    "        return [r]\n",
    "    elif not executar and vencedor == 'X':\n",
    "        r = {}\n",
    "        r['pontuacao'] = -1\n",
    "        return [r]\n",
    "    elif not executar:\n",
    "        r = {}\n",
    "        r['pontuacao'] = 0\n",
    "        return [r]\n",
    "        \n",
    "    movimentos = []\n",
    "    vazios = []\n",
    "    for i in range(3):\n",
    "        for j in range(3):\n",
    "            if estado[i][j] is ' ':\n",
    "                vazios.append(i*3 + (j+1))\n",
    "    \n",
    "    for vazio in vazios:\n",
    "        movimento = {}\n",
    "        movimento['indice'] = vazio\n",
    "        movimento['pontuacao'] = 0\n",
    "        novo_estado = copiar_estado(estado)\n",
    "        jogada(novo_estado, jogador, vazio)\n",
    "        \n",
    "        if jogador == 'O':\n",
    "            resultado = minimax(novo_estado, 'X')           \n",
    "            \n",
    "        else:\n",
    "            resultado = minimax(novo_estado, 'O')\n",
    "\n",
    "        for x in range(len(resultado)):\n",
    "            movimento['pontuacao'] += (resultado[x])['pontuacao']\n",
    "\n",
    "        movimentos.append(movimento)\n",
    "        \n",
    "    return movimentos"
   ]
  },
  {
   "cell_type": "code",
   "execution_count": 144,
   "metadata": {},
   "outputs": [],
   "source": [
    "def maximo(lista):\n",
    "    max = -infinity\n",
    "    x = -1\n",
    "    for i in range(len(lista)):\n",
    "        print(list[i])\n",
    "        if (lista[i]).pontuacao > max:\n",
    "            max = (lista[i])['pontuacao']\n",
    "            x = i\n",
    "    return x"
   ]
  },
  {
   "cell_type": "markdown",
   "metadata": {},
   "source": [
    "### Execução"
   ]
  },
  {
   "cell_type": "code",
   "execution_count": 150,
   "metadata": {},
   "outputs": [
    {
     "name": "stdout",
     "output_type": "stream",
     "text": [
      "----------------\n",
      "|   ||   ||   |\n",
      "----------------\n",
      "|   ||   ||   |\n",
      "----------------\n",
      "|   ||   ||   |\n",
      "----------------\n",
      "Escolha quem começa - X (Humano) or O (Máquina): O\n",
      "Jogada da máquina: 5\n",
      "----------------\n",
      "|   ||   ||   |\n",
      "----------------\n",
      "|   || O ||   |\n",
      "----------------\n",
      "|   ||   ||   |\n",
      "----------------\n",
      "Sua vez, digite uma opção de bloco entre 1 e 9: 9\n",
      "----------------\n",
      "|   ||   ||   |\n",
      "----------------\n",
      "|   || O ||   |\n",
      "----------------\n",
      "|   ||   || X |\n",
      "----------------\n",
      "Jogada da máquina: 3\n",
      "----------------\n",
      "|   ||   || O |\n",
      "----------------\n",
      "|   || O ||   |\n",
      "----------------\n",
      "|   ||   || X |\n",
      "----------------\n",
      "Sua vez, digite uma opção de bloco entre 1 e 9: 1\n",
      "----------------\n",
      "| X ||   || O |\n",
      "----------------\n",
      "|   || O ||   |\n",
      "----------------\n",
      "|   ||   || X |\n",
      "----------------\n",
      "Jogada da máquina: 4\n",
      "----------------\n",
      "| X ||   || O |\n",
      "----------------\n",
      "| O || O ||   |\n",
      "----------------\n",
      "|   ||   || X |\n",
      "----------------\n",
      "Sua vez, digite uma opção de bloco entre 1 e 9: 7\n",
      "----------------\n",
      "| X ||   || O |\n",
      "----------------\n",
      "| O || O ||   |\n",
      "----------------\n",
      "| X ||   || X |\n",
      "----------------\n",
      "Jogada da máquina: 6\n",
      "----------------\n",
      "| X ||   || O |\n",
      "----------------\n",
      "| O || O || O |\n",
      "----------------\n",
      "| X ||   || X |\n",
      "----------------\n",
      "O venceu a partida.\n",
      "Deseja tentar novamente? (S/N)n\n"
     ]
    }
   ],
   "source": [
    "continuar = 'S'\n",
    "while continuar == 'S' or continuar == 's':\n",
    "    estado = [[' ',' ',' '],\n",
    "              [' ',' ',' '],\n",
    "              [' ',' ',' ']]\n",
    "    executar = True\n",
    "    print_estado(estado)\n",
    "    iniciante = input(\"Escolha quem começa - X (Humano) or O (Máquina): \")\n",
    "    vencedor = None\n",
    "    \n",
    "    if iniciante == 'X' or iniciante == 'x':\n",
    "        jogador_atual = 0\n",
    "    else:\n",
    "        jogador_atual = 1\n",
    "        \n",
    "    while executar:\n",
    "        if jogador_atual == 0:\n",
    "            bloco = int(input(\"Sua vez, digite uma opção de bloco entre 1 e 9: \"))\n",
    "            jogada(estado ,jogadores[jogador_atual], bloco)\n",
    "        else:\n",
    "            lista = minimax(estado, jogadores[jogador_atual])\n",
    "            max = -infinity\n",
    "            x = -1\n",
    "            for i in range(len(lista)):\n",
    "                if (lista[i])['pontuacao'] > max:\n",
    "                    max = (lista[i])['pontuacao']\n",
    "                    x = (lista[i])['indice']\n",
    "            jogada(estado ,jogadores[jogador_atual], x)\n",
    "            print(\"Jogada da máquina: \" + str(x))\n",
    "        print_estado(estado)\n",
    "        vencedor, executar = checar(estado)\n",
    "        if vencedor != None:\n",
    "            print(str(vencedor) + \" venceu a partida.\")\n",
    "        else:\n",
    "            jogador_atual = (jogador_atual + 1)%2\n",
    "        \n",
    "        if (not executar) and vencedor == None:\n",
    "            print(\"Empate.\")\n",
    "            \n",
    "    continuar = input('Deseja tentar novamente? (S/N)')"
   ]
  },
  {
   "cell_type": "code",
   "execution_count": null,
   "metadata": {},
   "outputs": [],
   "source": []
  },
  {
   "cell_type": "code",
   "execution_count": null,
   "metadata": {},
   "outputs": [],
   "source": []
  },
  {
   "cell_type": "code",
   "execution_count": null,
   "metadata": {},
   "outputs": [],
   "source": []
  }
 ],
 "metadata": {
  "kernelspec": {
   "display_name": "Python 3",
   "language": "python",
   "name": "python3"
  },
  "language_info": {
   "codemirror_mode": {
    "name": "ipython",
    "version": 3
   },
   "file_extension": ".py",
   "mimetype": "text/x-python",
   "name": "python",
   "nbconvert_exporter": "python",
   "pygments_lexer": "ipython3",
   "version": "3.6.8"
  }
 },
 "nbformat": 4,
 "nbformat_minor": 2
}
