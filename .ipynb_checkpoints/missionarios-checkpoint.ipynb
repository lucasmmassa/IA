{
 "cells": [
  {
   "cell_type": "markdown",
   "metadata": {},
   "source": [
    "# Missionários e Canibais"
   ]
  },
  {
   "cell_type": "code",
   "execution_count": 155,
   "metadata": {},
   "outputs": [],
   "source": [
    "import queue"
   ]
  },
  {
   "cell_type": "code",
   "execution_count": 156,
   "metadata": {},
   "outputs": [],
   "source": [
    "class State:                            # REPRESENTAR O ESTADO\n",
    "    def __init__(self,ce,me,cd,md,ne):  # CONSIDERA QUE QUEREM ATRAVESSAR DA ESQUERDA PARA A DIRETA\n",
    "        self.canibais_esquerda = ce\n",
    "        self.missionarios_esquerda = me\n",
    "        self.canibais_direita = cd\n",
    "        self.missionarios_direita = md\n",
    "        self.na_esquerda = ne        "
   ]
  },
  {
   "cell_type": "markdown",
   "metadata": {},
   "source": [
    "### O código acima define a classe estado."
   ]
  },
  {
   "cell_type": "markdown",
   "metadata": {},
   "source": [
    "### Em seguida serão definidas as funções de movimentação dos missionários e canibais. "
   ]
  },
  {
   "cell_type": "code",
   "execution_count": 157,
   "metadata": {},
   "outputs": [],
   "source": [
    "def dois_missionarios_para_direita():\n",
    "    x = me-2\n",
    "    y = md+2\n",
    "    z = False\n",
    "    new = State(ce,x,cd,y,z)\n",
    "    return new"
   ]
  },
  {
   "cell_type": "code",
   "execution_count": 158,
   "metadata": {},
   "outputs": [],
   "source": [
    "def dois_missionarios_para_esquerda():\n",
    "    x = me+2\n",
    "    y = md-2\n",
    "    z = True\n",
    "    new = State(ce,x,cd,y,z)\n",
    "    return new"
   ]
  },
  {
   "cell_type": "code",
   "execution_count": 159,
   "metadata": {},
   "outputs": [],
   "source": [
    "def dois_canibais_para_direita():\n",
    "    x = ce-2\n",
    "    y = cd+2\n",
    "    z = False\n",
    "    new = State(x,me,y,md,z)\n",
    "    return new"
   ]
  },
  {
   "cell_type": "code",
   "execution_count": 160,
   "metadata": {},
   "outputs": [],
   "source": [
    "def dois_canibais_para_esquerda():\n",
    "    x = ce+2\n",
    "    y = cd-2\n",
    "    z = True\n",
    "    new = State(x,me,y,md,z)\n",
    "    return new"
   ]
  },
  {
   "cell_type": "code",
   "execution_count": 161,
   "metadata": {},
   "outputs": [],
   "source": [
    "def um_de_cada_para_direita():\n",
    "    x = ce-1\n",
    "    y = me-1\n",
    "    z = cd+1\n",
    "    w = md+1\n",
    "    u = False\n",
    "    new = State(x,y,z,w,u)\n",
    "    return new"
   ]
  },
  {
   "cell_type": "code",
   "execution_count": 162,
   "metadata": {},
   "outputs": [],
   "source": [
    "def um_de_cada_para_esquerda():\n",
    "    x = ce+1\n",
    "    y = me+1\n",
    "    z = cd-1\n",
    "    w = md-1\n",
    "    u = True\n",
    "    new = State(x,y,z,w,u)\n",
    "    return new"
   ]
  },
  {
   "cell_type": "code",
   "execution_count": 163,
   "metadata": {},
   "outputs": [],
   "source": [
    "def missionario_para_direita():\n",
    "    x = me-1\n",
    "    y = md+1\n",
    "    z = False\n",
    "    new = State(ce,x,cd,y,z)\n",
    "    return new"
   ]
  },
  {
   "cell_type": "code",
   "execution_count": 164,
   "metadata": {},
   "outputs": [],
   "source": [
    "def missionario_para_esquerda():\n",
    "    x = me+1\n",
    "    y = md-1\n",
    "    z = True\n",
    "    new = State(ce,x,cd,y,z)\n",
    "    return new"
   ]
  },
  {
   "cell_type": "code",
   "execution_count": 165,
   "metadata": {},
   "outputs": [],
   "source": [
    "def canibal_para_direita():\n",
    "    x = ce-1\n",
    "    y = cd+1\n",
    "    z = False\n",
    "    new = State(x,me,y,md,z)\n",
    "    return new"
   ]
  },
  {
   "cell_type": "code",
   "execution_count": 166,
   "metadata": {},
   "outputs": [],
   "source": [
    "def canibal_para_esquerda():\n",
    "    x = ce+1\n",
    "    y = cd-1\n",
    "    z = True\n",
    "    new = State(x,me,y,md,z)\n",
    "    return new"
   ]
  },
  {
   "cell_type": "markdown",
   "metadata": {},
   "source": [
    "### Abaixo serão definadas as funções de controle de fluxo de procedimentos"
   ]
  },
  {
   "cell_type": "code",
   "execution_count": 167,
   "metadata": {},
   "outputs": [],
   "source": [
    "def opcoes_para_direita():\n",
    "    fronteira.put(dois_canibais_para_direita())\n",
    "    fronteira.put(dois_missionarios_para_direita())\n",
    "    fronteira.put(um_de_cada_para_direita())\n",
    "    fronteira.put(missionario_para_direita())\n",
    "    fronteira.put(canibal_para_direita())"
   ]
  },
  {
   "cell_type": "code",
   "execution_count": 168,
   "metadata": {},
   "outputs": [],
   "source": [
    "def opcoes_para_esquerda():\n",
    "    fronteira.put(dois_canibais_para_esquerda())\n",
    "    fronteira.put(dois_missionarios_para_esquerda())\n",
    "    fronteira.put(um_de_cada_para_esquerda())\n",
    "    fronteira.put(missionario_para_esquerda())\n",
    "    fronteira.put(canibal_para_esquerda())"
   ]
  },
  {
   "cell_type": "code",
   "execution_count": 172,
   "metadata": {},
   "outputs": [
    {
     "ename": "SyntaxError",
     "evalue": "invalid syntax (<ipython-input-172-341f8a069bd8>, line 15)",
     "output_type": "error",
     "traceback": [
      "\u001b[0;36m  File \u001b[0;32m\"<ipython-input-172-341f8a069bd8>\"\u001b[0;36m, line \u001b[0;32m15\u001b[0m\n\u001b[0;31m    print(,ce,me,cd,md,ne)\u001b[0m\n\u001b[0m          ^\u001b[0m\n\u001b[0;31mSyntaxError\u001b[0m\u001b[0;31m:\u001b[0m invalid syntax\n"
     ]
    }
   ],
   "source": [
    "def procedimento():\n",
    "    while(True):\n",
    "        print(fronteira.qsize())\n",
    "        if(fronteira.empty()):\n",
    "            sem_solucao()\n",
    "            break\n",
    "\n",
    "        else:\n",
    "            actual = fronteira.get()\n",
    "            me = actual.missionarios_esquerda\n",
    "            ce = actual.canibais_esquerda\n",
    "            md = actual.missionarios_direita\n",
    "            cd = actual.canibais_direita\n",
    "            ne = actual.na_esquerda\n",
    "            print(ce,me,cd,md,ne)\n",
    "            if(me==0 and ce==0 and md==3 and cd==3):\n",
    "                solucao()\n",
    "                break\n",
    "                \n",
    "            if(not((ce>me and me!=0) or (cd>md and md!=0) or me<0 or ce<0 or md<0 or cd<0 or me>3 or md>3 or ce>3 or cd>3)):\n",
    "                if(ne):\n",
    "                    opcoes_para_direita()\n",
    "                else:\n",
    "                    opcoes_para_esquerda()"
   ]
  },
  {
   "cell_type": "code",
   "execution_count": 170,
   "metadata": {},
   "outputs": [],
   "source": [
    "def solucao():\n",
    "    print('Solução encontrada')\n",
    "    \n",
    "def sem_solucao():\n",
    "    print('Não há solução')"
   ]
  },
  {
   "cell_type": "markdown",
   "metadata": {},
   "source": [
    "### Abaixo ocorre a execução"
   ]
  },
  {
   "cell_type": "code",
   "execution_count": 171,
   "metadata": {},
   "outputs": [
    {
     "name": "stdout",
     "output_type": "stream",
     "text": [
      "1\n",
      "3 3 0 0 True\n",
      "5\n",
      "3 1 0 2 False\n",
      "9\n",
      "1 3 2 0 False\n",
      "8\n",
      "2 2 1 1 False\n",
      "12\n",
      "2 3 1 0 False\n",
      "11\n",
      "3 2 0 1 False\n",
      "15\n",
      "3 5 0 -2 True\n",
      "14\n",
      "5 3 -2 0 True\n",
      "13\n",
      "4 4 -1 -1 True\n",
      "12\n",
      "4 3 -1 0 True\n",
      "11\n",
      "3 4 0 -1 True\n",
      "10\n",
      "3 5 0 -2 True\n",
      "9\n",
      "5 3 -2 0 True\n",
      "8\n",
      "4 4 -1 -1 True\n",
      "7\n",
      "4 3 -1 0 True\n",
      "6\n",
      "3 4 0 -1 True\n",
      "5\n",
      "3 5 0 -2 True\n",
      "4\n",
      "5 3 -2 0 True\n",
      "3\n",
      "4 4 -1 -1 True\n",
      "2\n",
      "4 3 -1 0 True\n",
      "1\n",
      "3 4 0 -1 True\n",
      "0\n",
      "Não há solução\n"
     ]
    }
   ],
   "source": [
    "fronteira = queue.Queue(maxsize=0)\n",
    "initial = State(3,3,0,0,True)\n",
    "fronteira.put(initial)\n",
    "procedimento()"
   ]
  },
  {
   "cell_type": "code",
   "execution_count": null,
   "metadata": {},
   "outputs": [],
   "source": []
  },
  {
   "cell_type": "code",
   "execution_count": null,
   "metadata": {},
   "outputs": [],
   "source": []
  }
 ],
 "metadata": {
  "kernelspec": {
   "display_name": "Python 3",
   "language": "python",
   "name": "python3"
  },
  "language_info": {
   "codemirror_mode": {
    "name": "ipython",
    "version": 3
   },
   "file_extension": ".py",
   "mimetype": "text/x-python",
   "name": "python",
   "nbconvert_exporter": "python",
   "pygments_lexer": "ipython3",
   "version": "3.6.8"
  }
 },
 "nbformat": 4,
 "nbformat_minor": 2
}
